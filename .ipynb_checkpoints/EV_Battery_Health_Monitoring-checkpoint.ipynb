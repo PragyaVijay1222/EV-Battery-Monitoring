{
 "cells": [
  {
   "cell_type": "code",
   "execution_count": null,
   "id": "08a253af",
   "metadata": {},
   "outputs": [],
   "source": [
    "import sys\n",
    "!{sys.executable} -m pip install --quiet pandas numpy scikit-learn streamlit"
   ]
  },
  {
   "cell_type": "code",
   "execution_count": null,
   "id": "bce2e30d",
   "metadata": {},
   "outputs": [],
   "source": [
    "import pandas as pd\n",
    "import numpy as np\n",
    "import random\n",
    "from sklearn.ensemble import RandomForestRegressor, IsolationForest\n",
    "from sklearn.model_selection import train_test_split\n",
    "from sklearn.metrics import mean_squared_error, r2_score"
   ]
  },
  {
   "cell_type": "code",
   "execution_count": null,
   "id": "3ee53ca6",
   "metadata": {},
   "outputs": [],
   "source": [
    "def simulate_ev_data(n_records=10000):\n",
    "    data = {\n",
    "        'voltage': np.random.normal(350, 10, n_records),\n",
    "        'current': np.random.normal(50, 5, n_records),\n",
    "        'temperature': np.random.normal(30, 5, n_records),\n",
    "        'state_of_charge': np.random.uniform(10, 100, n_records),\n",
    "        'charge_cycles': np.random.randint(50, 1000, n_records),\n",
    "        'ambient_temp': np.random.normal(28, 4, n_records),\n",
    "        'speed': np.random.normal(45, 10, n_records),\n",
    "        'payload': np.random.uniform(200, 1000, n_records),\n",
    "        'trip_distance': np.random.uniform(5, 150, n_records),\n",
    "        'charging_time': np.random.uniform(20, 240, n_records),\n",
    "        'battery_health': np.random.uniform(50, 100, n_records)\n",
    "    }\n",
    "    return pd.DataFrame(data)"
   ]
  },
  {
   "cell_type": "code",
   "execution_count": null,
   "id": "fc89dbe8",
   "metadata": {},
   "outputs": [],
   "source": [
    "df = simulate_ev_data()\n",
    "df.to_csv('ev_telemetry_data.csv', index=False)\n",
    "df.head()"
   ]
  },
  {
   "cell_type": "code",
   "execution_count": null,
   "id": "5355b027",
   "metadata": {},
   "outputs": [],
   "source": [
    "df.describe()"
   ]
  },
  {
   "cell_type": "code",
   "execution_count": null,
   "id": "f6758f7a",
   "metadata": {},
   "outputs": [],
   "source": [
    "X = df.drop('battery_health', axis=1)\n",
    "y = df['battery_health']\n",
    "\n",
    "X_train, X_test, y_train, y_test = train_test_split(X, y, test_size=0.2, random_state=42)"
   ]
  },
  {
   "cell_type": "code",
   "execution_count": null,
   "id": "b2cb7f54",
   "metadata": {},
   "outputs": [],
   "source": [
    "regressor = RandomForestRegressor(n_estimators=100, random_state=42)\n",
    "regressor.fit(X_train, y_train)\n",
    "y_pred = regressor.predict(X_test)"
   ]
  },
  {
   "cell_type": "code",
   "execution_count": null,
   "id": "b743336e",
   "metadata": {},
   "outputs": [],
   "source": [
    "print(\"MSE:\", mean_squared_error(y_test, y_pred))\n",
    "print(\"R2 Score:\", r2_score(y_test, y_pred))"
   ]
  },
  {
   "cell_type": "code",
   "execution_count": null,
   "id": "f6725cab",
   "metadata": {},
   "outputs": [],
   "source": [
    "iso_forest = IsolationForest(contamination=0.02, random_state=42)\n",
    "df['anomaly_score'] = iso_forest.fit_predict(X)\n",
    "df['anomaly'] = df['anomaly_score'].apply(lambda x: 'Anomaly' if x == -1 else 'Normal')\n",
    "df[['battery_health', 'anomaly']].head()"
   ]
  },
  {
   "cell_type": "code",
   "execution_count": null,
   "id": "22bb71c4",
   "metadata": {},
   "outputs": [],
   "source": [
    "df['anomaly'].value_counts()"
   ]
  }
 ],
 "metadata": {},
 "nbformat": 4,
 "nbformat_minor": 5
}
